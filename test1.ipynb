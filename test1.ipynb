{
 "cells": [
  {
   "cell_type": "code",
   "execution_count": 1,
   "id": "53719f0a-919c-4956-84b5-7c989c3aedeb",
   "metadata": {},
   "outputs": [
    {
     "name": "stdout",
     "output_type": "stream",
     "text": [
      "Hello, Java in Jupyter!\n"
     ]
    }
   ],
   "source": [
    "System.out.println(\"Hello, Java in Jupyter!\");"
   ]
  },
  {
   "cell_type": "code",
   "execution_count": 2,
   "id": "50db33b8-3129-4732-9754-03b47c527367",
   "metadata": {},
   "outputs": [
    {
     "name": "stdout",
     "output_type": "stream",
     "text": [
      "Hello, Java in Jupyter!\n",
      "Hello, Java in Jupyter!\n",
      "Hello, Java in Jupyter!\n",
      "Hello, Java in Jupyter!\n",
      "Hello, Java in Jupyter!\n"
     ]
    }
   ],
   "source": [
    "int i = 0;\n",
    "while (i < 5){\n",
    "    System.out.println(\"Hello, Java in Jupyter!\");\n",
    "    i++;\n",
    "}"
   ]
  }
 ],
 "metadata": {
  "kernelspec": {
   "display_name": "Java",
   "language": "java",
   "name": "java"
  },
  "language_info": {
   "codemirror_mode": "java",
   "file_extension": ".jshell",
   "mimetype": "text/x-java-source",
   "name": "Java",
   "pygments_lexer": "java",
   "version": "23.0.1"
  }
 },
 "nbformat": 4,
 "nbformat_minor": 5
}
